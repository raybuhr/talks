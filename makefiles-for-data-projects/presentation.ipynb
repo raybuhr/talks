{
 "cells": [
  {
   "cell_type": "markdown",
   "metadata": {
    "slideshow": {
     "slide_type": "slide"
    }
   },
   "source": [
    "# Makefiles for Data Projects\n",
    "\n",
    "2019-06-19\n",
    "\n",
    "### Ray Buhr\n",
    "\n",
    "Data Scientist at Braintree\n",
    "\n",
    "https://raybuhr.github.io/talks/makefiles-for-data-projects/presentation.slides.html"
   ]
  },
  {
   "cell_type": "markdown",
   "metadata": {
    "slideshow": {
     "slide_type": "slide"
    }
   },
   "source": [
    "## Make and Makefiles\n",
    "\n",
    "`make` is a command line tool for running commands that may depend on the success of other commands.\n",
    "\n",
    "`Makefile` is a text file that `make` uses uses to define tasks and dependecies.\n",
    "\n",
    "**IMPORTANT**: indent with tabs (`\\t`), not spaces"
   ]
  },
  {
   "cell_type": "markdown",
   "metadata": {
    "slideshow": {
     "slide_type": "slide"
    }
   },
   "source": [
    "## Rules and Targets\n",
    "\n",
    "A _rule_ is the just the steps involved in the task (aka commands).\n",
    "\n",
    "A _target_ defines the result of the task.\n",
    "\n",
    "Basic structure of a `Makefile`\n",
    "\n",
    "```\n",
    "target:   dependencies ...\n",
    "          commands\n",
    "          ...\n",
    "```"
   ]
  },
  {
   "cell_type": "markdown",
   "metadata": {
    "slideshow": {
     "slide_type": "slide"
    }
   },
   "source": [
    "## Why should I care?\n",
    "\n",
    "If you do this, you get an automatic CLI for your project, \n",
    "that can be smart about running the steps of your data project \n",
    "in the order that you want."
   ]
  },
  {
   "cell_type": "markdown",
   "metadata": {
    "slideshow": {
     "slide_type": "slide"
    }
   },
   "source": [
    "## Example Time!"
   ]
  },
  {
   "cell_type": "markdown",
   "metadata": {
    "slideshow": {
     "slide_type": "slide"
    }
   },
   "source": [
    "`make install` to set virtual environment and install packages \n",
    "\n",
    "```Makefile\n",
    "install:\n",
    "    python3 -m venv /venv\n",
    "    source venv/bin/activate\n",
    "    pip install -r requirements.txt\n",
    "```"
   ]
  },
  {
   "cell_type": "markdown",
   "metadata": {
    "slideshow": {
     "slide_type": "slide"
    }
   },
   "source": [
    "`make test` to run the tests defined for the project\n",
    "\n",
    "`make test-coverage` to get a test coverage report\n",
    "\n",
    "```Makefile\n",
    "test:\n",
    "    pipenv run python -m pytest --verbose tests\n",
    "\n",
    "test-coverage:\n",
    "\tpipenv run pytest --cov-config .coveragerc \\\n",
    "        --verbose --cov-report term \\\n",
    "        --cov-report xml --cov=requests tests\n",
    "```"
   ]
  },
  {
   "cell_type": "markdown",
   "metadata": {
    "slideshow": {
     "slide_type": "slide"
    }
   },
   "source": [
    "1. Run a query and save the result to CSV\n",
    "2. Train a ML model and pickle the object using joblib\n",
    "3. Save both of those files AWS S3\n",
    "\n",
    "<br/>\n",
    "\n",
    "```Makefile\n",
    "ENV = dev\n",
    "BUCKET = team-data-science-$(ENV)\n",
    "\n",
    "data/training_data.csv: install fetch_training_data.sql\n",
    "    psql -d replica_database -t -A -F\",\" \\\n",
    "        -f fetch_training_data.sql -o training_data.csv\n",
    "\n",
    "data/trained_model.joblib.gz: training_data.csv train_model.py \n",
    "    source venv/bin/activate && \\\n",
    "    python train_model.py\n",
    "\n",
    "sync_data_to_s3: data/trained_model.joblib.gz data/training_data.csv\n",
    "    aws s3 sync data/ s3://$(BUCKET)/data/\n",
    "```"
   ]
  },
  {
   "cell_type": "markdown",
   "metadata": {
    "slideshow": {
     "slide_type": "slide"
    }
   },
   "source": [
    "## Other things to know\n",
    "\n",
    "**IMPORTANT**: indent with tabs (`\\t`), not spaces\n",
    "\n",
    "`.PHONY` prevents make from confusing the target with a file name\n",
    "\n",
    "`.DEFAULT_GOAL` sets the task to run by default when only `make` is ran\n",
    "\n",
    "    this is super **_helpful_** when you define a `help` task \n",
    "\n",
    "Add an `@` before a command to stop it from being printed\n",
    "\n",
    "You can use `;` to separate commands, useful when the first step is to `cd` to a directory\n",
    "\n",
    "You can have multiple commands in a task"
   ]
  },
  {
   "cell_type": "markdown",
   "metadata": {
    "slideshow": {
     "slide_type": "slide"
    }
   },
   "source": [
    "## Online Resources\n",
    "\n",
    "[Makefile Cheatsheet](https://devhints.io/makefile)\n",
    "\n",
    "[Makefile Tutorial](https://makefiletutorial.com/)\n",
    "\n",
    "[Automatic help documentation for Makefile](https://marmelab.com/blog/2016/02/29/auto-documented-makefile.html)\n",
    "\n",
    "[GNU Make Homepage](https://www.gnu.org/software/make/)"
   ]
  }
 ],
 "metadata": {
  "celltoolbar": "Slideshow",
  "kernelspec": {
   "display_name": "Python 3",
   "language": "python",
   "name": "python3"
  },
  "language_info": {
   "codemirror_mode": {
    "name": "ipython",
    "version": 3
   },
   "file_extension": ".py",
   "mimetype": "text/x-python",
   "name": "python",
   "nbconvert_exporter": "python",
   "pygments_lexer": "ipython3",
   "version": "3.7.3"
  }
 },
 "nbformat": 4,
 "nbformat_minor": 2
}

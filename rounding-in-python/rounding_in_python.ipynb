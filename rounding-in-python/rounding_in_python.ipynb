{
 "cells": [
  {
   "cell_type": "markdown",
   "metadata": {
    "slideshow": {
     "slide_type": "slide"
    }
   },
   "source": [
    "# Rounding in Python\n",
    "\n",
    "Ray Buhr\n",
    "\n",
    "Oct. 30, 2019"
   ]
  },
  {
   "cell_type": "markdown",
   "metadata": {
    "slideshow": {
     "slide_type": "slide"
    }
   },
   "source": [
    "In elementary school, we learned how to round decimals. \n",
    "\n",
    "For example, we learned that:\n",
    "- `10.5` rounds to `11`\n",
    "- `15.5` rounds to `16`"
   ]
  },
  {
   "cell_type": "code",
   "execution_count": 1,
   "metadata": {
    "slideshow": {
     "slide_type": "slide"
    }
   },
   "outputs": [
    {
     "name": "stdout",
     "output_type": "stream",
     "text": [
      "10.5 rounds to 11, but in python it rounds to 10\n",
      "15.5 rounds to 16, and in python it rounds to 16\n"
     ]
    }
   ],
   "source": [
    "print(f\"10.5 rounds to 11, but in python it rounds to {round(10.5)}\")\n",
    "\n",
    "print(f\"15.5 rounds to 16, and in python it rounds to {round(15.5)}\")"
   ]
  },
  {
   "cell_type": "markdown",
   "metadata": {
    "slideshow": {
     "slide_type": "slide"
    }
   },
   "source": [
    "![not sure if](https://i.kym-cdn.com/entries/icons/original/000/006/026/NOTSUREIF.jpg)"
   ]
  },
  {
   "cell_type": "markdown",
   "metadata": {
    "slideshow": {
     "slide_type": "slide"
    }
   },
   "source": [
    "## What just happened?\n",
    "\n",
    "We noticed that `15.5` _rounded up_ to `16` like we expected, but for some reason `10.5` did not _round up_ to `11`. Instead `10.5` _rounded down_ to `10`. \n",
    "\n",
    "Let's test out a few more cases to see what's going on here."
   ]
  },
  {
   "cell_type": "code",
   "execution_count": 2,
   "metadata": {
    "slideshow": {
     "slide_type": "slide"
    }
   },
   "outputs": [
    {
     "name": "stdout",
     "output_type": "stream",
     "text": [
      "some numbers\n",
      "[-29.5, -22.5, -15.5, -8.5, -1.5, 5.5, 12.5, 19.5, 26.5, 33.5, 40.5, 47.5]\n",
      "\n",
      "those same numbers rounded\n",
      "[-30, -22, -16, -8, -2, 6, 12, 20, 26, 34, 40, 48]\n"
     ]
    }
   ],
   "source": [
    "numbers = [i + 0.5 for i in range(-50, 50)]\n",
    "print(\"some numbers\", numbers[20::7], sep=\"\\n\")\n",
    "\n",
    "rounded_numbers = [round(num) for num in numbers]\n",
    "print(\"\\nthose same numbers rounded\", rounded_numbers[20::7], sep=\"\\n\")"
   ]
  },
  {
   "cell_type": "markdown",
   "metadata": {
    "slideshow": {
     "slide_type": "slide"
    }
   },
   "source": [
    "## Did you notice the pattern?\n",
    "\n",
    "All the numbers whose integer component was \n",
    "\n",
    "**even _rounded down_**\n",
    "\n",
    "while the numbers whose integer component was \n",
    "\n",
    "**odd _rounded up_**\n",
    "\n",
    "This is called **_even rounding_**\n",
    ">This is the default rounding mode used in IEEE 754 floating-point operations"
   ]
  },
  {
   "cell_type": "markdown",
   "metadata": {
    "slideshow": {
     "slide_type": "slide"
    }
   },
   "source": [
    "![rounding algos](Comparison_rounding_graph.png)"
   ]
  },
  {
   "cell_type": "markdown",
   "metadata": {
    "slideshow": {
     "slide_type": "slide"
    }
   },
   "source": [
    "## So why does this matter?"
   ]
  },
  {
   "cell_type": "code",
   "execution_count": 3,
   "metadata": {
    "slideshow": {
     "slide_type": "slide"
    }
   },
   "outputs": [
    {
     "name": "stdout",
     "output_type": "stream",
     "text": [
      "Sum of numpy array: -6549.0\n",
      "Sum of decimal array: -6530\n"
     ]
    }
   ],
   "source": [
    "import numpy as np\n",
    "\n",
    "numbers = (\n",
    "    np.random.randint(low=-100, high=100, size=100_000) + \n",
    "    np.random.random(100_000).round(2)\n",
    ")\n",
    "\n",
    "print(\"Sum of numpy array:\", numbers.round().sum())\n",
    "\n",
    "from decimal import Decimal, ROUND_HALF_UP\n",
    "\n",
    "decimals = [Decimal(n) for n in numbers]\n",
    "print(\n",
    "    \"Sum of decimal array:\",\n",
    "    sum(d.quantize(0, rounding=ROUND_HALF_UP) for d in decimals)\n",
    ")"
   ]
  },
  {
   "cell_type": "markdown",
   "metadata": {
    "slideshow": {
     "slide_type": "slide"
    }
   },
   "source": [
    "## Thank you!"
   ]
  }
 ],
 "metadata": {
  "celltoolbar": "Slideshow",
  "kernelspec": {
   "display_name": "Python 3",
   "language": "python",
   "name": "python3"
  },
  "language_info": {
   "codemirror_mode": {
    "name": "ipython",
    "version": 3
   },
   "file_extension": ".py",
   "mimetype": "text/x-python",
   "name": "python",
   "nbconvert_exporter": "python",
   "pygments_lexer": "ipython3",
   "version": "3.7.3"
  }
 },
 "nbformat": 4,
 "nbformat_minor": 2
}
